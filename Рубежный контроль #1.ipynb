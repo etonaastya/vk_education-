{
 "cells": [
  {
   "cell_type": "markdown",
   "id": "0c1dd51e-d66a-4d46-9147-d2e1b725e1c7",
   "metadata": {},
   "source": [
    "## Семинар 1.\n",
    "## Задача 1. Two sum"
   ]
  },
  {
   "cell_type": "code",
   "execution_count": 81,
   "id": "c142752d-9c69-4dc3-96b5-c2f0ee5f8733",
   "metadata": {},
   "outputs": [
    {
     "name": "stdout",
     "output_type": "stream",
     "text": [
      "Индексы элементов, сумма которых равна 9: [1, 4]\n"
     ]
    }
   ],
   "source": [
    "def twoSum(nums, target):\n",
    "    left = 0\n",
    "    right = len(nums) - 1\n",
    "    while left < right:\n",
    "        total = nums[left] + nums[right]\n",
    "        if total == target:\n",
    "            return [left, right]\n",
    "        elif total < target:\n",
    "            left += 1\n",
    "        else:\n",
    "            right -= 1\n",
    "    return []\n",
    "\n",
    "nums = [2, 7, 11, 15, 2]\n",
    "#что будет если две пары чисел будут давать таргет \n",
    "target = 9\n",
    "result = twoSum(nums, target)\n",
    "print(f\"Индексы элементов, сумма которых равна {target}: {result}\")\n"
   ]
  },
  {
   "cell_type": "markdown",
   "id": "e88c2254-3787-4439-bd5a-92419bd4bf9a",
   "metadata": {},
   "source": [
    "## Задача 2. Развернуть массив"
   ]
  },
  {
   "cell_type": "code",
   "execution_count": 29,
   "id": "048333ea-212d-4b32-a98b-119f86089c73",
   "metadata": {},
   "outputs": [
    {
     "name": "stdout",
     "output_type": "stream",
     "text": [
      "Исходный массив: [11, 2, 33, 4, 55]\n",
      "Перевернутый массив: [55, 4, 33, 2, 11]\n"
     ]
    }
   ],
   "source": [
    "def reverseArray(arr):\n",
    "    left = 0\n",
    "    right = len(arr) - 1\n",
    "    \n",
    "    while left < right:\n",
    "        arr[left], arr[right] = arr[right], arr[left]\n",
    "        left += 1\n",
    "        right -= 1\n",
    "\n",
    "    return arr\n",
    "\n",
    "if __name__ == \"__main__\":\n",
    "    arr = [11, 2, 33, 4, 55]\n",
    "    print(\"Исходный массив:\", arr)\n",
    "    \n",
    "    reversed_arr = reverseArray(arr)\n",
    "    print(\"Перевернутый массив:\", reversed_arr)\n"
   ]
  },
  {
   "cell_type": "markdown",
   "id": "3cd3a2d5-f7d0-41ae-9fe8-ec41d29f2396",
   "metadata": {},
   "source": [
    "## Задача 3. Развернуть часть массива"
   ]
  },
  {
   "cell_type": "code",
   "execution_count": 32,
   "id": "7e99161f-d7c2-4b1e-b0dc-b968072e99c0",
   "metadata": {},
   "outputs": [
    {
     "name": "stdout",
     "output_type": "stream",
     "text": [
      "Исходный массив: [1, 2, 3, 4, 5, 6, 7]\n",
      "Массив с перевернутой частью справа налево: [1, 2, 3, 4, 7, 6, 5]\n"
     ]
    }
   ],
   "source": [
    "def reverseArray(arr, left, right):\n",
    "    while left < right:\n",
    "        arr[left], arr[right] = arr[right], arr[left]\n",
    "        left += 1\n",
    "        right -= 1\n",
    "\n",
    "def solution(arr, k):\n",
    "    n = len(arr)\n",
    "    reverseArray(arr, n - k, n - 1)\n",
    "    return arr\n",
    "\n",
    "if __name__ == \"__main__\":\n",
    "    arr = [1, 2, 3, 4, 5, 6, 7]\n",
    "    k = 3\n",
    "    print(\"Исходный массив:\", arr)\n",
    "    \n",
    "    reversed_arr = solution(arr, k)\n",
    "    print(\"Массив с перевернутой частью справа налево:\", reversed_arr)\n"
   ]
  },
  {
   "cell_type": "markdown",
   "id": "ac66f2ad-3707-4962-8ea1-e1b4e5b7a39a",
   "metadata": {},
   "source": [
    "## Задача 4. Слияние двух отсортированных массивов"
   ]
  },
  {
   "cell_type": "code",
   "execution_count": 37,
   "id": "7894e0ee-de16-470f-9c88-83c106f89ca2",
   "metadata": {},
   "outputs": [
    {
     "name": "stdout",
     "output_type": "stream",
     "text": [
      "Исходный массив arr1: [1, 3, 5, 7]\n",
      "Исходный массив arr2: [2, 4, 6, 8]\n",
      "Объединенный отсортированный массив: [1, 2, 3, 4, 5, 6, 7, 8]\n"
     ]
    }
   ],
   "source": [
    "def merge(arr1, arr2):\n",
    "    arr1.extend(arr2)\n",
    "    arr1.sort()\n",
    "    return arr1\n",
    "\n",
    "if __name__ == \"__main__\":\n",
    "    arr1 = [1, 3, 5, 7]\n",
    "    arr2 = [2, 4, 6, 8]\n",
    "    \n",
    "    print(\"Исходный массив arr1:\", arr1)\n",
    "    print(\"Исходный массив arr2:\", arr2)\n",
    "    \n",
    "    merged_arr = merge(arr1, arr2)\n",
    "    print(\"Объединенный отсортированный массив:\", merged_arr)\n"
   ]
  },
  {
   "cell_type": "code",
   "execution_count": null,
   "id": "415bff5b-79d3-4adc-9320-01dcb7ef7188",
   "metadata": {},
   "outputs": [],
   "source": [
    "или"
   ]
  },
  {
   "cell_type": "code",
   "execution_count": 39,
   "id": "6562f377-c9f3-4b9e-97cf-70cebf042da7",
   "metadata": {},
   "outputs": [
    {
     "name": "stdout",
     "output_type": "stream",
     "text": [
      "Исходный массив arr1: [1, 3, 5, 7]\n",
      "Исходный массив arr2: [2, 4, 6, 8]\n",
      "Объединенный отсортированный массив: [1, 2, 3, 4, 5, 6, 7, 8]\n"
     ]
    }
   ],
   "source": [
    "def merge(arr1, arr2):\n",
    "    arr1.extend([0] * len(arr2))\n",
    "    \n",
    "    pointer1 = len(arr1) - len(arr2) - 1\n",
    "    pointer2 = len(arr2) - 1\n",
    "    pointer3 = len(arr1) - 1\n",
    "    \n",
    "    while pointer2 >= 0:\n",
    "        if pointer1 >= 0 and arr1[pointer1] > arr2[pointer2]:\n",
    "            arr1[pointer3] = arr1[pointer1]\n",
    "            pointer1 -= 1\n",
    "        else:\n",
    "            arr1[pointer3] = arr2[pointer2]\n",
    "            pointer2 -= 1\n",
    "        pointer3 -= 1\n",
    "    \n",
    "    return arr1\n",
    "\n",
    "if __name__ == \"__main__\":\n",
    "    arr1 = [1, 3, 5, 7]\n",
    "    arr2 = [2, 4, 6, 8]\n",
    "    \n",
    "    print(\"Исходный массив arr1:\", arr1)\n",
    "    print(\"Исходный массив arr2:\", arr2)\n",
    "    \n",
    "    merged_arr = merge(arr1, arr2)\n",
    "    print(\"Объединенный отсортированный массив:\", merged_arr)\n"
   ]
  },
  {
   "cell_type": "markdown",
   "id": "cad386cb-8e50-458b-a842-ac3ed0ddee86",
   "metadata": {},
   "source": [
    "## Задача 5. Сортировка массива из 0 и 1"
   ]
  },
  {
   "cell_type": "code",
   "execution_count": 42,
   "id": "5d15397a-24bf-4183-ab11-1dfb66271eab",
   "metadata": {},
   "outputs": [
    {
     "name": "stdout",
     "output_type": "stream",
     "text": [
      "Исходный массив: [1, 0, 1, 0, 1, 0, 0, 1]\n",
      "Отсортированный массив: [0, 0, 0, 0, 1, 1, 1, 1]\n"
     ]
    }
   ],
   "source": [
    "def sort_binary_array(arr):\n",
    "    left = 0\n",
    "    right = len(arr) - 1\n",
    "    \n",
    "    while left < right:\n",
    "        if arr[left] == 1:\n",
    "            arr[left], arr[right] = arr[right], arr[left]\n",
    "            right -= 1\n",
    "        else:\n",
    "            left += 1\n",
    "    \n",
    "    return arr\n",
    "\n",
    "if __name__ == \"__main__\":\n",
    "    arr = [1, 0, 1, 0, 1, 0, 0, 1]\n",
    "    print(\"Исходный массив:\", arr)\n",
    "    \n",
    "    sorted_arr = sort_binary_array(arr)\n",
    "    print(\"Отсортированный массив:\", sorted_arr)\n"
   ]
  },
  {
   "cell_type": "markdown",
   "id": "a0b83efa-21e5-47df-84d8-f11412238e31",
   "metadata": {},
   "source": [
    "## Задача 6. Задача флага Нидерладндов"
   ]
  },
  {
   "cell_type": "code",
   "execution_count": 45,
   "id": "e540db8d-5355-468e-99bf-456228f47b13",
   "metadata": {},
   "outputs": [
    {
     "name": "stdout",
     "output_type": "stream",
     "text": [
      "Исходный массив: [2, 0, 2, 1, 1, 0]\n",
      "Отсортированный массив: [0, 0, 1, 1, 2, 2]\n"
     ]
    }
   ],
   "source": [
    "def sortColors(nums):\n",
    "    low = 0\n",
    "    mid = 0\n",
    "    high = len(nums) - 1\n",
    "    \n",
    "    while mid <= high:\n",
    "        if nums[mid] == 0:\n",
    "            nums[low], nums[mid] = nums[mid], nums[low]\n",
    "            low += 1\n",
    "            mid += 1\n",
    "        elif nums[mid] == 1:\n",
    "            mid += 1\n",
    "        elif nums[mid] == 2:\n",
    "            nums[mid], nums[high] = nums[high], nums[mid]\n",
    "            high -= 1\n",
    "    \n",
    "    return nums\n",
    "\n",
    "if __name__ == \"__main__\":\n",
    "    nums = [2, 0, 2, 1, 1, 0]\n",
    "    print(\"Исходный массив:\", nums)\n",
    "    \n",
    "    sorted_nums = sortColors(nums)\n",
    "    print(\"Отсортированный массив:\", sorted_nums)\n"
   ]
  },
  {
   "cell_type": "markdown",
   "id": "49c160ae-f087-4024-88fe-322f901f35bb",
   "metadata": {},
   "source": [
    "## Задача 6. Передвинуть четные числа вперед"
   ]
  },
  {
   "cell_type": "code",
   "execution_count": 83,
   "id": "836fffd7-4f1f-46bf-a06d-70558fcbf963",
   "metadata": {},
   "outputs": [
    {
     "name": "stdout",
     "output_type": "stream",
     "text": [
      "Исходный массив: [3, 2, 8, 1, 4, 6, 7]\n",
      "Массив с четными числами в начале: [2, 8, 4, 6, 3, 1, 7]\n"
     ]
    }
   ],
   "source": [
    "def evenFirst(arr):\n",
    "    evenIndex = 0\n",
    "    \n",
    "    for i in range(len(arr)):\n",
    "        if arr[i] % 2 == 0:\n",
    "            arr[i], arr[evenIndex] = arr[evenIndex], arr[i]\n",
    "            evenIndex += 1\n",
    "    \n",
    "    return arr\n",
    "\n",
    "if __name__ == \"__main__\":\n",
    "    arr = [3, 2, 8, 1, 4, 6, 7]\n",
    "    print(\"Исходный массив:\", arr)\n",
    "    \n",
    "    modified_arr = evenFirst(arr)\n",
    "    print(\"Массив с четными числами в начале:\", modified_arr)\n"
   ]
  },
  {
   "cell_type": "markdown",
   "id": "a255a346-1f0a-4ecc-b3b2-0c4d663fca36",
   "metadata": {},
   "source": [
    "## Задача 7. Нули в конец"
   ]
  },
  {
   "cell_type": "code",
   "execution_count": 49,
   "id": "762012cc-660f-4fdd-bcac-0b751dbcb087",
   "metadata": {},
   "outputs": [
    {
     "name": "stdout",
     "output_type": "stream",
     "text": [
      "Исходный массив оценок: [3, 0, 4, 0, 5, 0, 2]\n",
      "Массив оценок с нулями в конце: [3, 4, 5, 2, 0, 0, 0]\n"
     ]
    }
   ],
   "source": [
    "def move_zeros_to_end(grades):\n",
    "    result = []\n",
    "    \n",
    "    for grade in grades:\n",
    "        if grade != 0:\n",
    "            result.append(grade)\n",
    "    \n",
    "    result.extend([0] * (len(grades) - len(result)))\n",
    "    \n",
    "    return result\n",
    "\n",
    "# Пример использования\n",
    "if __name__ == \"__main__\":\n",
    "    grades = [3, 0, 4, 0, 5, 0, 2]\n",
    "    print(\"Исходный массив оценок:\", grades)\n",
    "    \n",
    "    modified_grades = move_zeros_to_end(grades)\n",
    "    print(\"Массив оценок с нулями в конце:\", modified_grades)\n"
   ]
  },
  {
   "cell_type": "markdown",
   "id": "a051c428-3d9c-4c48-8056-94316e1d86cb",
   "metadata": {},
   "source": [
    "## Семинар 2. \n",
    "## Задача 1. Является ли список циклическим? "
   ]
  },
  {
   "cell_type": "code",
   "execution_count": 51,
   "id": "ccb70902-90a2-4bbc-927d-8d8b437ae39a",
   "metadata": {},
   "outputs": [
    {
     "name": "stdout",
     "output_type": "stream",
     "text": [
      "Список циклический: True\n"
     ]
    }
   ],
   "source": [
    "class Node:\n",
    "    def __init__(self, data=None):\n",
    "        self.data = data\n",
    "        self.next = None\n",
    "\n",
    "def hasCycle(head):\n",
    "    if head is None:\n",
    "        return False\n",
    "\n",
    "    tortoise = head\n",
    "    hare = head\n",
    "\n",
    "    while hare is not None and hare.next is not None:\n",
    "        tortoise = tortoise.next\n",
    "        hare = hare.next.next\n",
    "\n",
    "        if tortoise == hare:\n",
    "            return True\n",
    "\n",
    "    return False\n",
    "\n",
    "# Пример использования\n",
    "if __name__ == \"__main__\":\n",
    "    head = Node(1)\n",
    "    head.next = Node(2)\n",
    "    head.next.next = Node(3)\n",
    "    head.next.next.next = Node(4)\n",
    "    head.next.next.next.next = head.next.next  \n",
    "\n",
    "    print(\"Список циклический:\", hasCycle(head))\n"
   ]
  },
  {
   "cell_type": "markdown",
   "id": "00443458-53c3-4e11-82e5-9f94e8cc5bd2",
   "metadata": {},
   "source": [
    "## Задача 2. Развернуть односвязный список\n",
    "Необходимо написать функцию, которая принимает на вход односвязный список и разворачивает его."
   ]
  },
  {
   "cell_type": "code",
   "execution_count": 53,
   "id": "10b5e9c9-ed2a-40a8-8fd6-01c2b986c1d8",
   "metadata": {},
   "outputs": [
    {
     "name": "stdout",
     "output_type": "stream",
     "text": [
      "Исходный список:\n",
      "1 2 3 4 \n",
      "Развернутый список:\n",
      "4 3 2 1 \n"
     ]
    }
   ],
   "source": [
    "class ListNode:\n",
    "    def __init__(self, x):\n",
    "        self.val = x\n",
    "        self.next = None\n",
    "\n",
    "def reverseLinkedList(head):\n",
    "    prev = None\n",
    "    while head:\n",
    "        head.next, prev, head = prev, head, head.next\n",
    "    return prev\n",
    "\n",
    "node1 = ListNode(1)\n",
    "node2 = ListNode(2)\n",
    "node3 = ListNode(3)\n",
    "node4 = ListNode(4)\n",
    "\n",
    "node1.next = node2\n",
    "node2.next = node3\n",
    "node3.next = node4\n",
    "\n",
    "print(\"Исходный список:\")\n",
    "current = node1\n",
    "while current:\n",
    "    print(current.val, end=\" \")\n",
    "    current = current.next\n",
    "print()\n",
    "\n",
    "new_head = reverseLinkedList(node1)\n",
    "\n",
    "print(\"Развернутый список:\")\n",
    "current = new_head\n",
    "while current:\n",
    "    print(current.val, end=\" \")\n",
    "    current = current.next\n",
    "print()\n"
   ]
  },
  {
   "cell_type": "markdown",
   "id": "71ac4302-7d55-4a2e-84ee-67da3e806fd5",
   "metadata": {},
   "source": [
    "## Задача 3. Найти середину списка"
   ]
  },
  {
   "cell_type": "code",
   "execution_count": 60,
   "id": "5aef074b-5747-4769-9eec-e3b79ce058cc",
   "metadata": {},
   "outputs": [
    {
     "name": "stdout",
     "output_type": "stream",
     "text": [
      "Исходный список:\n",
      "1 2 2 3 4 5 \n",
      "Середина списка: 3\n"
     ]
    }
   ],
   "source": [
    "class ListNode:\n",
    "    def __init__(self, x):\n",
    "        self.val = x\n",
    "        self.next = None\n",
    "\n",
    "def middleNode(head):\n",
    "    slow = fast = head\n",
    "    while fast is not None and fast.next is not None:\n",
    "        slow = slow.next\n",
    "        fast = fast.next.next\n",
    "    return slow\n",
    "\n",
    "node1 = ListNode(1)\n",
    "node2 = ListNode(2)\n",
    "node3 = ListNode(2)\n",
    "node4 = ListNode(3)\n",
    "node5 = ListNode(4)\n",
    "node6 = ListNode(5)\n",
    "\n",
    "node1.next = node2\n",
    "node2.next = node3\n",
    "node3.next = node4\n",
    "node4.next = node5\n",
    "node5.next = node6\n",
    "\n",
    "print(\"Исходный список:\")\n",
    "current = node1\n",
    "while current:\n",
    "    print(current.val, end=\" \")\n",
    "    current = current.next\n",
    "print()\n",
    "\n",
    "middle = middleNode(node1)\n",
    "\n",
    "if middle:\n",
    "    print(\"Середина списка:\", middle.val)\n",
    "else:\n",
    "    print(\"Список пуст\")\n"
   ]
  },
  {
   "cell_type": "markdown",
   "id": "0f661f6a-8251-41b8-ada7-5819c790d43c",
   "metadata": {},
   "source": [
    "## Задача 4. Удалить элемент из односвязного списка"
   ]
  },
  {
   "cell_type": "code",
   "execution_count": 69,
   "id": "70c1faa2-b5dd-4f80-9a19-71a04d67645a",
   "metadata": {},
   "outputs": [
    {
     "name": "stdout",
     "output_type": "stream",
     "text": [
      "Исходный список:\n",
      "1 2 6 3 4 5 6 \n",
      "Список после удаления узлов со значением @:\n",
      "2 6 3 4 5 6 \n"
     ]
    }
   ],
   "source": [
    "class ListNode:\n",
    "    def __init__(self, x):\n",
    "        self.val = x\n",
    "        self.next = None\n",
    "\n",
    "def removeElements(head, val):\n",
    "    dummy = ListNode(0)\n",
    "    dummy.next = head\n",
    "    prev = dummy\n",
    "\n",
    "    while prev.next:\n",
    "        if prev.next.val == val:\n",
    "            prev.next = prev.next.next\n",
    "        else:\n",
    "            prev = prev.next\n",
    "\n",
    "    return dummy.next\n",
    "\n",
    "node1 = ListNode(1)\n",
    "node2 = ListNode(2)\n",
    "node3 = ListNode(6)\n",
    "node4 = ListNode(3)\n",
    "node5 = ListNode(4)\n",
    "node6 = ListNode(5)\n",
    "node7 = ListNode(6)\n",
    "\n",
    "node1.next = node2\n",
    "node2.next = node3\n",
    "node3.next = node4\n",
    "node4.next = node5\n",
    "node5.next = node6\n",
    "node6.next = node7\n",
    "\n",
    "print(\"Исходный список:\")\n",
    "current = node1\n",
    "while current:\n",
    "    print(current.val, end=\" \")\n",
    "    current = current.next\n",
    "print()\n",
    "\n",
    "new_head = removeElements(node1,1 )\n",
    "\n",
    "print(\"Список после удаления узлов со значением @:\")\n",
    "current = new_head\n",
    "while current:\n",
    "    print(current.val, end=\" \")\n",
    "    current = current.next\n",
    "print()\n"
   ]
  },
  {
   "cell_type": "markdown",
   "id": "7bf9bda1-c9c9-4f58-a5f2-5d482e460047",
   "metadata": {},
   "source": [
    "## Задача 5. Является ли одна строка исходной для другой\n"
   ]
  },
  {
   "cell_type": "code",
   "execution_count": 72,
   "id": "f8d494d6-52cc-4c5e-8e03-a45d94cfeb79",
   "metadata": {},
   "outputs": [
    {
     "name": "stdout",
     "output_type": "stream",
     "text": [
      "True\n",
      "False\n"
     ]
    }
   ],
   "source": [
    "from collections import deque\n",
    "\n",
    "def isSubsequence(a, b):\n",
    "    q = deque(a)\n",
    "    \n",
    "    for el in b:\n",
    "        if q and q[0] == el:\n",
    "            q.popleft()\n",
    "    \n",
    "    return len(q) == 0\n",
    "\n",
    "a = \"abc\"\n",
    "b = \"ahbgdc\"\n",
    "print(isSubsequence(a, b))  \n",
    "\n",
    "a = \"axc\"\n",
    "b = \"ahbgdc\"\n",
    "print(isSubsequence(a, b))  \n"
   ]
  },
  {
   "cell_type": "markdown",
   "id": "e31baa08-41d5-45ac-809f-dbd2a0178edf",
   "metadata": {},
   "source": [
    "## Задача 6. Является ли слово палиндромом\n",
    "\n"
   ]
  },
  {
   "cell_type": "code",
   "execution_count": 79,
   "id": "c4cd0e7e-aabf-42c5-86d1-2e1ea50f3bb3",
   "metadata": {},
   "outputs": [
    {
     "name": "stdout",
     "output_type": "stream",
     "text": [
      "True\n",
      "False\n",
      "False\n"
     ]
    }
   ],
   "source": [
    "def Palindrome(s):\n",
    "    left = 0\n",
    "    right = len(s) - 1\n",
    "\n",
    "    while left < right:\n",
    "        if s[left] != s[right]:\n",
    "            return False\n",
    "        left += 1\n",
    "        right -= 1\n",
    "\n",
    "    return True\n",
    "\n",
    "print(Palindrome(\"mamam\"))   \n",
    "print(Palindrome(\"mama\")) \n",
    "print(Palindrome(\"hello\"))    \n"
   ]
  },
  {
   "cell_type": "code",
   "execution_count": null,
   "id": "dd239a60-25e1-489d-b7e9-63e81cc0662a",
   "metadata": {},
   "outputs": [],
   "source": []
  }
 ],
 "metadata": {
  "kernelspec": {
   "display_name": "Python 3 (ipykernel)",
   "language": "python",
   "name": "python3"
  },
  "language_info": {
   "codemirror_mode": {
    "name": "ipython",
    "version": 3
   },
   "file_extension": ".py",
   "mimetype": "text/x-python",
   "name": "python",
   "nbconvert_exporter": "python",
   "pygments_lexer": "ipython3",
   "version": "3.12.7"
  }
 },
 "nbformat": 4,
 "nbformat_minor": 5
}
